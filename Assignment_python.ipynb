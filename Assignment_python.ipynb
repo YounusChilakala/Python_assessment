{
 "cells": [
  {
   "cell_type": "markdown",
   "id": "774184f6",
   "metadata": {},
   "source": [
    "# Basic i/o programs"
   ]
  },
  {
   "cell_type": "code",
   "execution_count": null,
   "id": "c05a5d36",
   "metadata": {},
   "outputs": [],
   "source": [
    "#q1 Print Self-introduction from user input"
   ]
  },
  {
   "cell_type": "code",
   "execution_count": null,
   "id": "5423068b",
   "metadata": {},
   "outputs": [],
   "source": [
    "slf_intro=input(\"Please type your self-introduction--\\n\")"
   ]
  },
  {
   "cell_type": "code",
   "execution_count": null,
   "id": "29ac4620",
   "metadata": {},
   "outputs": [],
   "source": [
    "#q2 Add,subtract, multiply, divide, modulo and exponent"
   ]
  },
  {
   "cell_type": "code",
   "execution_count": null,
   "id": "5d524230",
   "metadata": {},
   "outputs": [],
   "source": [
    "a=int(input('enter first number= '))\n",
    "b=int(input('enter second number= '))\n",
    "sum=a+b\n",
    "diff=a-b\n",
    "mul=a*b\n",
    "div=a/b\n",
    "mod=a%b\n",
    "exp=a**b\n",
    "print(f\"sum is {sum}\\ndiff is {diff}\\nmul is {mul}\\ndiv is {div}\\n mod is {mod}\\nexp is {exp}\")"
   ]
  },
  {
   "cell_type": "code",
   "execution_count": null,
   "id": "30ad9e84",
   "metadata": {},
   "outputs": [],
   "source": [
    "#q3 Swap numbers"
   ]
  },
  {
   "cell_type": "code",
   "execution_count": null,
   "id": "c22196b3",
   "metadata": {},
   "outputs": [],
   "source": [
    "x=int(input('enter first number= '))\n",
    "y=int(input('enter second number= '))\n",
    "temp=x\n",
    "x=y\n",
    "y=temp\n",
    "print(f'first number is now {x} and second number is now {y}')"
   ]
  },
  {
   "cell_type": "code",
   "execution_count": null,
   "id": "c6f9e092",
   "metadata": {},
   "outputs": [],
   "source": [
    "#q4 Swap numbers without a third variable"
   ]
  },
  {
   "cell_type": "code",
   "execution_count": null,
   "id": "016d193e",
   "metadata": {},
   "outputs": [],
   "source": [
    "x=int(input('enter first number= '))\n",
    "y=int(input('enter second number= '))\n",
    "x,y=y,x\n",
    "print(f'first number is now {x} and second number is now {y}')"
   ]
  },
  {
   "cell_type": "code",
   "execution_count": null,
   "id": "46f99819",
   "metadata": {},
   "outputs": [],
   "source": [
    "#q5 Simple interest"
   ]
  },
  {
   "cell_type": "code",
   "execution_count": null,
   "id": "8cc827ba",
   "metadata": {},
   "outputs": [],
   "source": [
    "#A=final amount\n",
    "#P=initial principal balance\n",
    "#r=annual interest rate\n",
    "#t=time (in years)"
   ]
  },
  {
   "cell_type": "code",
   "execution_count": null,
   "id": "cb1ecb48",
   "metadata": {},
   "outputs": [],
   "source": [
    "p=int(input(\"enter the principal amount-- $\"))\n",
    "r=int(input(\"enter the annual interest rate-- $\"))\n",
    "t=int(input(\"enter the time-- \"))\n",
    "a=p*(1+(r*t))\n",
    "print(f\"Final amount after simple interest is ${a}\")\n"
   ]
  },
  {
   "cell_type": "code",
   "execution_count": null,
   "id": "e5379d60",
   "metadata": {},
   "outputs": [],
   "source": [
    "#q6 Average of five numbers"
   ]
  },
  {
   "cell_type": "code",
   "execution_count": null,
   "id": "fdcba37c",
   "metadata": {},
   "outputs": [],
   "source": [
    "a,b,c,d,e=input(\"enter the five numbers separated by a space-- \").split(' ')\n",
    "sum=int(a)+int(b)+int(c)+int(d)+int(e)\n",
    "avg=sum/5\n",
    "print(avg)"
   ]
  },
  {
   "cell_type": "code",
   "execution_count": null,
   "id": "93b5f7db",
   "metadata": {},
   "outputs": [],
   "source": [
    "#q7 Discriminant of a quadratic equation"
   ]
  },
  {
   "cell_type": "code",
   "execution_count": null,
   "id": "6aa8a795",
   "metadata": {},
   "outputs": [],
   "source": [
    "a=int(input(\"enter the value of a-- \"))\n",
    "b=int(input(\"enter the value of b-- \"))\n",
    "c=int(input(\"enter the value of c-- \"))\n",
    "disc=(b**2)-(4*a*c)\n",
    "print(disc)\n"
   ]
  },
  {
   "cell_type": "code",
   "execution_count": null,
   "id": "514e8bcc",
   "metadata": {},
   "outputs": [],
   "source": [
    "#q8 Areas of geometric shapes"
   ]
  },
  {
   "cell_type": "code",
   "execution_count": null,
   "id": "39f8689c",
   "metadata": {},
   "outputs": [],
   "source": [
    "def rect_area():\n",
    "    l=int(input(\"enter l \"))\n",
    "    b=int(input(\"enter b \"))\n",
    "    return l*b\n",
    "def sqr_area():\n",
    "    s=int(input(\"enter s \"))\n",
    "    return s**2\n",
    "def tri_area():\n",
    "    b=int(input(\"enter b \"))\n",
    "    h=int(input(\"enter h \"))\n",
    "    return (b*h)/2\n",
    "def circ_area():\n",
    "    r=int(input(\"enter r \"))\n",
    "    return 3.14*(r**2)\n",
    "\n",
    "inp=input(\"Please enter the name of the shape whose area you wannt to calculate--\")\n",
    "if (inp.lower()=='rectangle'):\n",
    "    print('area is',rect_area())\n",
    "elif (inp.lower()=='square'):\n",
    "    print('area is',sqr_area())\n",
    "elif (inp.lower()=='triangle'):\n",
    "    print('area is',tri_area())\n",
    "elif (inp.lower()=='circle'):\n",
    "    print('area is',circ_area())\n",
    "    \n"
   ]
  },
  {
   "cell_type": "code",
   "execution_count": null,
   "id": "b0bb2ef7",
   "metadata": {},
   "outputs": [],
   "source": [
    "#q9 Net salary of an employee"
   ]
  },
  {
   "cell_type": "code",
   "execution_count": null,
   "id": "d8d6fd63",
   "metadata": {},
   "outputs": [],
   "source": [
    "base_sal=int(input(\"enter the salary $\"))\n",
    "da=base_sal*0.05\n",
    "hra=base_sal*0.07\n",
    "pf=base_sal*0.03\n",
    "net_salary=da+hra+pf+base_sal\n",
    "print(f\"Net salary is ${net_salary}\")"
   ]
  },
  {
   "cell_type": "code",
   "execution_count": null,
   "id": "bb990b2b",
   "metadata": {},
   "outputs": [],
   "source": [
    "#q10 Power of a number"
   ]
  },
  {
   "cell_type": "code",
   "execution_count": null,
   "id": "03bbd9fa",
   "metadata": {},
   "outputs": [],
   "source": [
    "base=int(input(\"enter number \"))\n",
    "power=int(input(\"enter the power to be raised to \"))\n",
    "num=(base**power)\n",
    "print(num)"
   ]
  },
  {
   "cell_type": "code",
   "execution_count": null,
   "id": "38cba2ac",
   "metadata": {},
   "outputs": [],
   "source": [
    "#q11 fin: get python ver"
   ]
  },
  {
   "cell_type": "code",
   "execution_count": null,
   "id": "14c40a67",
   "metadata": {},
   "outputs": [],
   "source": [
    "import sys\n",
    "print(sys.version)"
   ]
  },
  {
   "cell_type": "code",
   "execution_count": null,
   "id": "0cb4fa09",
   "metadata": {},
   "outputs": [],
   "source": []
  }
 ],
 "metadata": {
  "kernelspec": {
   "display_name": "Python 3 (ipykernel)",
   "language": "python",
   "name": "python3"
  },
  "language_info": {
   "codemirror_mode": {
    "name": "ipython",
    "version": 3
   },
   "file_extension": ".py",
   "mimetype": "text/x-python",
   "name": "python",
   "nbconvert_exporter": "python",
   "pygments_lexer": "ipython3",
   "version": "3.9.12"
  }
 },
 "nbformat": 4,
 "nbformat_minor": 5
}
