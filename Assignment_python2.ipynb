{
 "cells": [
  {
   "cell_type": "code",
   "execution_count": null,
   "id": "26131dd6",
   "metadata": {},
   "outputs": [],
   "source": [
    "# Pattern printing-1"
   ]
  },
  {
   "cell_type": "code",
   "execution_count": null,
   "id": "2b5a53c2",
   "metadata": {},
   "outputs": [],
   "source": [
    "rows = int(input('Enter the number of rows: '))\n",
    "\n",
    "for i in range(1, rows+1):\n",
    "    for j in range(1, i+1):\n",
    "        print(\" \", end=\"\")        # prints empty spaces corresponding to the value of i\n",
    "    for k in range(1, i+1):\n",
    "        print(i, end=\"\")\n",
    "    print()"
   ]
  },
  {
   "cell_type": "code",
   "execution_count": null,
   "id": "86c59482",
   "metadata": {},
   "outputs": [],
   "source": [
    "# Pattern printing-2"
   ]
  },
  {
   "cell_type": "code",
   "execution_count": null,
   "id": "103d73a8",
   "metadata": {},
   "outputs": [],
   "source": [
    "n=int(input('Enter the number of rows: '))\n",
    "for i in range(n+1):             # range(6)\n",
    "    for j in range(n-i,0,-1):    # range(5,0,-1) backwards\n",
    "        print(j, end=' ')        # prints 54321 (-1 because rev)\n",
    "    print() "
   ]
  },
  {
   "cell_type": "code",
   "execution_count": null,
   "id": "2af286bb",
   "metadata": {},
   "outputs": [],
   "source": [
    "# Pattern printing-3"
   ]
  },
  {
   "cell_type": "code",
   "execution_count": null,
   "id": "0311a8b5",
   "metadata": {},
   "outputs": [],
   "source": [
    "for i in range(5):\n",
    "    for j in range(i+1):\n",
    "        print(chr(97+i),end='')        # 97 on the ASCII corresponds to lowercase 'a'\n",
    "    print()"
   ]
  },
  {
   "cell_type": "code",
   "execution_count": null,
   "id": "a961dd5a",
   "metadata": {},
   "outputs": [],
   "source": [
    "# Fibonacci"
   ]
  },
  {
   "cell_type": "code",
   "execution_count": null,
   "id": "9ec03163",
   "metadata": {},
   "outputs": [],
   "source": [
    "a=0\n",
    "b=1\n",
    "i=0\n",
    "n=int(input('enter your value'))\n",
    "print(a)\n",
    "print(b)\n",
    "while i<n+1:\n",
    "    c=a+b\n",
    "    a,b=b,c          \n",
    "    i+=1\n",
    "    print(c)\n",
    "\n",
    "#explanation\n",
    "#0 1 1 2 3 5 8\n",
    "#a b c\n",
    "#  a b c\n",
    "#    a b c\n",
    " #step 1: base nums are added a=0,b=1---> c=a+b=1\n",
    " #step 2: assign those as new base nums---> new a is b(1 earlier) and the new b is c( the sum)"
   ]
  },
  {
   "cell_type": "code",
   "execution_count": null,
   "id": "10ee3471",
   "metadata": {},
   "outputs": [],
   "source": [
    "# Palindrome"
   ]
  },
  {
   "cell_type": "code",
   "execution_count": null,
   "id": "3ec3b789",
   "metadata": {},
   "outputs": [],
   "source": [
    "num=int(input('Enter a number '))\n",
    "temp=num\n",
    "rev=0\n",
    "while(num>0):\n",
    "    dig=num%10\n",
    "    rev=rev*10+dig\n",
    "    num=num//10\n",
    "if(temp==rev):\n",
    "    print('Palindrome')\n",
    "else:\n",
    "    print('Not a palindrome')\n",
    "\n",
    "# Alternative(recommended)\n",
    "    \n",
    "val=input('Enter text ')\n",
    "rev=val[::-1]\n",
    "if rev==val:\n",
    "    print('Palindrome')\n",
    "else:\n",
    "    print('Not a palindrome')"
   ]
  },
  {
   "cell_type": "code",
   "execution_count": null,
   "id": "e6d741a4",
   "metadata": {},
   "outputs": [],
   "source": [
    "# count of digits"
   ]
  },
  {
   "cell_type": "code",
   "execution_count": null,
   "id": "7d0ad13d",
   "metadata": {},
   "outputs": [],
   "source": [
    "num=int(input('enter a value')) \n",
    "count=0\n",
    "while num>0:            \n",
    "    num=num//10   \n",
    "    count+=1        \n",
    "\n",
    "print(count)"
   ]
  },
  {
   "cell_type": "code",
   "execution_count": null,
   "id": "dffaca56",
   "metadata": {},
   "outputs": [],
   "source": [
    "#bank operations basic"
   ]
  },
  {
   "cell_type": "code",
   "execution_count": null,
   "id": "37a5325c",
   "metadata": {},
   "outputs": [],
   "source": [
    "balance = 0\n",
    "\n",
    "def deposit(d_amount):\n",
    "    global balance\n",
    "    balance += d_amount     # balance= balance+d_amount ( 0 + 2000 )\n",
    "    print(f\"Deposit successful. Current balance: {balance}\")\n",
    "\n",
    "def withdraw(w_amount):\n",
    "    global balance\n",
    "    if w_amount > balance:\n",
    "        print(\"Insufficient balance.\")\n",
    "    else:\n",
    "        balance -= w_amount\n",
    "        print(f\"Withdrawal of {w_amount} successful. Current balance: {balance}\")\n",
    "\n",
    "def check_balance():\n",
    "    global balance\n",
    "    print(f\"Current balance: {balance}\")\n",
    "    \n",
    "while True:\n",
    "    user_inp=int(input(\"Welcome. What would you like to do?\\nEnter your choice-\\n1.Deposit \\n2.Withdraw \\n3.Check balance  \\n4.Exit \\n\"))\n",
    "    if user_inp==1:\n",
    "        print('You have chosen to deposit.')\n",
    "        d_amount=int(input('enter the amount to deposit: '))\n",
    "        deposit(d_amount)\n",
    "    elif user_inp==2:\n",
    "        print('You have chosen to withdraw.')\n",
    "        w_amount=int(input('enter the amount to withdraw: '))\n",
    "        withdraw(w_amount)\n",
    "    elif user_inp==3:\n",
    "        check_balance()\n",
    "    elif user_inp==4:\n",
    "        break"
   ]
  },
  {
   "cell_type": "code",
   "execution_count": 1,
   "id": "bad80f4d",
   "metadata": {},
   "outputs": [],
   "source": [
    "# count lower and upper case"
   ]
  },
  {
   "cell_type": "code",
   "execution_count": 6,
   "id": "c5feeb6b",
   "metadata": {},
   "outputs": [
    {
     "name": "stdout",
     "output_type": "stream",
     "text": [
      "There are 2 upper case letters.\n",
      "There are 3 lower case letters.\n"
     ]
    }
   ],
   "source": [
    "s=input('Enter the text-')\n",
    "up_case=0\n",
    "low_case=0\n",
    "for char in s:\n",
    "    if char.isupper():\n",
    "        up_case+=1\n",
    "print(f'There are {up_case} upper case letters.')\n",
    "\n",
    "for char in s:\n",
    "    if char.islower():\n",
    "        low_case+=1\n",
    "print(f'There are {low_case} lower case letters.')\n",
    "        "
   ]
  },
  {
   "cell_type": "code",
   "execution_count": null,
   "id": "78a95e1d",
   "metadata": {},
   "outputs": [],
   "source": []
  }
 ],
 "metadata": {
  "kernelspec": {
   "display_name": "Python 3 (ipykernel)",
   "language": "python",
   "name": "python3"
  },
  "language_info": {
   "codemirror_mode": {
    "name": "ipython",
    "version": 3
   },
   "file_extension": ".py",
   "mimetype": "text/x-python",
   "name": "python",
   "nbconvert_exporter": "python",
   "pygments_lexer": "ipython3",
   "version": "3.9.12"
  }
 },
 "nbformat": 4,
 "nbformat_minor": 5
}
